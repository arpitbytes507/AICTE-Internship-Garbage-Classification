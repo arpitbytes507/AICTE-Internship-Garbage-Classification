{
 "cells": [
  {
   "cell_type": "code",
   "execution_count": null,
   "id": "5a8fa58f",
   "metadata": {},
   "outputs": [],
   "source": [
    "%pip install numpy matplotlib seaborn tensorflow scikit-learn gradio"
   ]
  },
  {
   "cell_type": "code",
   "execution_count": null,
   "id": "5c4726e6",
   "metadata": {},
   "outputs": [],
   "source": [
    "%pip install --upgrade numpy scikit-learn tensorflow\n",
    "%pip install --upgrade --force-reinstall tensorflow\n",
    "import numpy as np  # Importing NumPy for numerical operations and array manipulations\n",
    "import matplotlib.pyplot as plt  # Importing Matplotlib for plotting graphs and visualizations\n",
    "import seaborn as sns  # Importing Seaborn for statistical data visualization, built on top of Matplotlib\n",
    "import tensorflow as tf  # Importing TensorFlow for building and training machine learning models\n",
    "from tensorflow import keras  # Importing Keras, a high-level API for TensorFlow, to simplify model building\n",
    "from tensorflow.keras import Layer  # Importing Layer class for creating custom layers in Keras\n",
    "from tensorflow.keras.models import Sequential  # Importing Sequential model for building neural networks layer-by-layer\n",
    "from tensorflow.keras.layers import Rescaling, GlobalAveragePooling2D\n",
    "from tensorflow.keras import layers, optimizers, callbacks  # Importing various modules for layers, optimizers, and callbacks in Keras\n",
    "from sklearn.utils.class_weight import compute_class_weight  # Importing function to compute class weights for imbalanced datasets\n",
    "from tensorflow.keras.applications import EfficientNetV2B2  # Importing EfficientNetV2B2 model for transfer learning\n",
    "from sklearn.metrics import confusion_matrix, classification_report  # Importing functions to evaluate model performance\n",
    "import gradio as gr  # Importing Gradio for creating interactive web interfaces for machine learning models"
   ]
  },
  {
   "cell_type": "code",
   "execution_count": 3,
   "id": "997dfdec",
   "metadata": {},
   "outputs": [],
   "source": [
    "dataset_dir= r\"C:\\Users\\arpit\\OneDrive\\Desktop\\AICTE-Internship-Garbage Classification\\Garbage_Classificcation\\Dataset\"\n",
    "image_size = (124, 124)\n",
    "batch_size = 32\n",
    "seed = 42"
   ]
  },
  {
   "cell_type": "code",
   "execution_count": 4,
   "id": "6c53c189",
   "metadata": {},
   "outputs": [
    {
     "name": "stdout",
     "output_type": "stream",
     "text": [
      "Found 2527 files belonging to 6 classes.\n",
      "Using 2022 files for training.\n"
     ]
    }
   ],
   "source": [
    "train_ds = tf.keras.utils.image_dataset_from_directory(\n",
    "    dataset_dir,\n",
    "    validation_split=0.2,\n",
    "    subset=\"training\",\n",
    "    seed=seed,\n",
    "    shuffle = True,\n",
    "    image_size=image_size,\n",
    "    batch_size=batch_size\n",
    ")"
   ]
  },
  {
   "cell_type": "code",
   "execution_count": 5,
   "id": "ef43854c",
   "metadata": {},
   "outputs": [
    {
     "name": "stdout",
     "output_type": "stream",
     "text": [
      "Found 2527 files belonging to 6 classes.\n",
      "Using 505 files for validation.\n"
     ]
    }
   ],
   "source": [
    "val_ds = tf.keras.utils.image_dataset_from_directory(\n",
    "    dataset_dir,\n",
    "    validation_split=0.2,\n",
    "    subset=\"validation\",\n",
    "    seed=seed,\n",
    "    shuffle = True,\n",
    "    image_size=image_size,\n",
    "    batch_size=batch_size\n",
    ")\n",
    "val_class= val_ds.class_names"
   ]
  },
  {
   "cell_type": "code",
   "execution_count": 7,
   "id": "3d7707dc",
   "metadata": {},
   "outputs": [],
   "source": [
    "# Get the total number of batches in the validation dataset\n",
    "val_batches = tf.data.experimental.cardinality(val_ds)  \n",
    "\n",
    "# Split the validation dataset into two equal parts:\n",
    "# First half becomes the test dataset\n",
    "test_ds = val_ds.take(val_batches // 2)  \n",
    "\n",
    "# Second half remains as the validation dataset\n",
    "val_dat = val_ds.skip(val_batches // 2)  \n",
    "\n",
    "# Optimize test dataset by caching and prefetching to improve performance\n",
    "test_ds_eval = test_ds.cache().prefetch(tf.data.AUTOTUNE)  "
   ]
  },
  {
   "cell_type": "code",
   "execution_count": 8,
   "id": "4eeb1f20",
   "metadata": {},
   "outputs": [
    {
     "name": "stdout",
     "output_type": "stream",
     "text": [
      "['cardboard', 'glass', 'metal', 'paper', 'plastic', 'trash']\n",
      "['cardboard', 'glass', 'metal', 'paper', 'plastic', 'trash']\n",
      "6\n"
     ]
    }
   ],
   "source": [
    "print(train_ds.class_names)\n",
    "print(val_class)\n",
    "print(len(train_ds.class_names))"
   ]
  }
 ],
 "metadata": {
  "kernelspec": {
   "display_name": "Garbage_Classificcation",
   "language": "python",
   "name": "python3"
  },
  "language_info": {
   "codemirror_mode": {
    "name": "ipython",
    "version": 3
   },
   "file_extension": ".py",
   "mimetype": "text/x-python",
   "name": "python",
   "nbconvert_exporter": "python",
   "pygments_lexer": "ipython3",
   "version": "3.11.9"
  }
 },
 "nbformat": 4,
 "nbformat_minor": 5
}
